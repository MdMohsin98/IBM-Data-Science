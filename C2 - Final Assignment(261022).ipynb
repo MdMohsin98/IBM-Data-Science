{
 "cells": [
  {
   "cell_type": "markdown",
   "id": "f64f7680",
   "metadata": {},
   "source": [
    "# My Jupyter Notebook on IBM Watson Studio"
   ]
  },
  {
   "cell_type": "markdown",
   "id": "88592215",
   "metadata": {},
   "source": [
    "<b>Mohammad Mohsin</b>\n",
    "<br>Aspiring Data Scientist"
   ]
  },
  {
   "cell_type": "markdown",
   "id": "a3493f57",
   "metadata": {},
   "source": [
    "*I am interested in Data Science because exploring data and finding patterns, outliers and modes have always been my interested work.*"
   ]
  },
  {
   "cell_type": "markdown",
   "id": "1a1b24eb",
   "metadata": {},
   "source": [
    "### In the next cell I am going to show you some simple mathematical calculations which can easily processed by jupyter notebook. "
   ]
  },
  {
   "cell_type": "code",
   "execution_count": 1,
   "id": "62378e2a",
   "metadata": {},
   "outputs": [
    {
     "data": {
      "text/plain": [
       "623"
      ]
     },
     "execution_count": 1,
     "metadata": {},
     "output_type": "execute_result"
    }
   ],
   "source": [
    "345+278"
   ]
  },
  {
   "cell_type": "markdown",
   "id": "edf50d43",
   "metadata": {},
   "source": [
    "- Apple\n",
    "- Ball\n",
    "- Cat\n",
    "- Dog\n",
    "- Elephant\n",
    "- Grapes\n",
    "\n",
    "1. Apple\n",
    "2. Ball\n",
    "3. Cat\n",
    "4. Dog\n",
    "5. Elephant\n",
    "6. Fish\n",
    "\n",
    "<hr>Apple   Ball   Cat   Dog   Elephant   Grapes</hr>\n",
    "\n",
    "\n",
    "<img src=\"first-visualization.jpg\" alt=\"My first visualization of data.\" title=\"Image\" />\n",
    "\n",
    "**For Further queries [click here](https://www.google.com)**\n",
    "\n",
    "\n",
    "| Words | for | learning English |\n",
    "|-------|------|-----|\n",
    "| Apple | Ball | Cat |\n",
    "| Dog | Elephant | Fish |\n",
    "| Grapes | Hen | Icecream |\n",
    "| Joker | Kite | Lion |\n",
    "\n",
    "<s>This is a jupyter lab</s>\n",
    "\n",
    "\n",
    "`All these formatting are done by Mohammad Mohsin`\n",
    "\n",
    "<code>print(\"Hello World\")</code>"
   ]
  },
  {
   "cell_type": "code",
   "execution_count": null,
   "id": "814e126a",
   "metadata": {},
   "outputs": [],
   "source": []
  },
  {
   "cell_type": "code",
   "execution_count": null,
   "id": "938598ea",
   "metadata": {},
   "outputs": [],
   "source": []
  }
 ],
 "metadata": {
  "kernelspec": {
   "display_name": "Python 3 (ipykernel)",
   "language": "python",
   "name": "python3"
  },
  "language_info": {
   "codemirror_mode": {
    "name": "ipython",
    "version": 3
   },
   "file_extension": ".py",
   "mimetype": "text/x-python",
   "name": "python",
   "nbconvert_exporter": "python",
   "pygments_lexer": "ipython3",
   "version": "3.10.2"
  }
 },
 "nbformat": 4,
 "nbformat_minor": 5
}
